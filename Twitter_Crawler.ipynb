{
  "nbformat": 4,
  "nbformat_minor": 0,
  "metadata": {
    "colab": {
      "name": "Twitter-Crawler.ipynb",
      "provenance": [],
      "collapsed_sections": [],
      "authorship_tag": "ABX9TyOM66m4G41pVlls14GxwDdR",
      "include_colab_link": true
    },
    "kernelspec": {
      "name": "python3",
      "display_name": "Python 3"
    },
    "accelerator": "GPU"
  },
  "cells": [
    {
      "cell_type": "markdown",
      "metadata": {
        "id": "view-in-github",
        "colab_type": "text"
      },
      "source": [
        "<a href=\"https://colab.research.google.com/github/meloly4/NLP-Projects/blob/master/Twitter_Crawler.ipynb\" target=\"_parent\"><img src=\"https://colab.research.google.com/assets/colab-badge.svg\" alt=\"Open In Colab\"/></a>"
      ]
    },
    {
      "cell_type": "code",
      "metadata": {
        "id": "9H1azN4h_Fn1",
        "colab_type": "code",
        "colab": {}
      },
      "source": [
        "pip install tweepy"
      ],
      "execution_count": null,
      "outputs": []
    },
    {
      "cell_type": "code",
      "metadata": {
        "id": "ZUdt2_GQ_wc1",
        "colab_type": "code",
        "colab": {}
      },
      "source": [
        "pip install pandas"
      ],
      "execution_count": null,
      "outputs": []
    },
    {
      "cell_type": "code",
      "metadata": {
        "id": "ibGdQITjCfmD",
        "colab_type": "code",
        "colab": {}
      },
      "source": [
        "access_token = '295612305-JEyfoUuOpBiXzqfrDXZZJR8noGJdPZNJjftSkLxI'\n",
        "access_token_secret = 'YiQBeyTESmn32DWdY4MhGigBVY5r7mEBWeYzZqGgaRXLU'\n",
        "consumer_key = 'qdfiVEYgyQR0HSiUF2TE63gNI'\n",
        "consumer_secret = '1wHBCEGhGGTEUk8dqfjKis62fsjdh7ORbkLR7okRj1KVe03KuZ'\n",
        "\n",
        "auth = tweepy.OAuthHandler(consumer_key, consumer_secret)\n",
        "auth.set_access_token(access_token, access_token_secret)\n",
        "\n",
        "api = tweepy.API(auth, wait_on_rate_limit=True, wait_on_rate_limit_notify=True)"
      ],
      "execution_count": null,
      "outputs": []
    },
    {
      "cell_type": "code",
      "metadata": {
        "id": "aZZHO3KV_9MD",
        "colab_type": "code",
        "colab": {}
      },
      "source": [
        "import tweepy\n",
        "from tweepy import OAuthHandler\n",
        "import pandas as pd\n",
        "import unicodedata\n",
        "import re\n",
        "from itertools import chain\n",
        "\n",
        "tweets = []\n",
        "count = 1\n",
        "\n",
        "for tweet in tweepy.Cursor(\tapi.search, \n",
        "                           \tq=\"y'all -filter:retweets\", \n",
        "\t\t\t\t\t\t\t\t\t\t\t\t\t\tlang='en', result_type='recent', \n",
        "\t\t\t\t\t\t\t\t\t\t\t\t\t\tcount=500, \n",
        "\t\t\t\t\t\t\t\t\t\t\t\t\t\ttweet_mode='extended').items(250):\n",
        "\n",
        "\tprint(count)\n",
        "\tcount += 1\n",
        "\n",
        "\tprocessed_full_text = re.sub(r\"(?:\\@|https?\\://)\\S+\", \"\", tweet.full_text)\n",
        "\n",
        "\ttry: \n",
        "\t\tdata = [tweet.created_at, \n",
        "\t\t        tweet.id_str, processed_full_text.strip(), \n",
        "\t\t\t\t\t\ttweet.user._json['screen_name'], \n",
        "\t\t\t\t\t\ttweet.user._json['name'], \n",
        "\t\t\t\t\t\ttweet.user._json['description'], \n",
        "\t\t\t\t\t\ttweet.user._json['location'], \n",
        "\t\t\t\t\t\ttweet.user._json['created_at']]\n",
        "\t\tdata = tuple(data)\n",
        "\t\ttweets.append(data)\n",
        "\n",
        "\texcept tweepy.TweepError as e:\n",
        "\t\tprint(e.reason)\n",
        "\t\tcontinue\n",
        "\n",
        "\texcept StopIteration:\n",
        "\t\tbreak\n",
        "\n",
        "df = pd.DataFrame(tweets, columns = ['created_at','tweet_id', 'tweet_text', 'screen_name', 'name', 'profile_description', 'account_location', 'account_creation_date'])\n",
        "\n",
        "df.to_csv(path_or_buf = 'yall.csv', encoding='utf-8-sig', index=False) \n"
      ],
      "execution_count": null,
      "outputs": []
    }
  ]
}