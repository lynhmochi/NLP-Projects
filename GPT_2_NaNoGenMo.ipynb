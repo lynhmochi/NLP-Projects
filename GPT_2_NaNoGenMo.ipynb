{
  "nbformat": 4,
  "nbformat_minor": 0,
  "metadata": {
    "colab": {
      "name": "GPT-2 NaNoGenMo.ipynb",
      "provenance": [],
      "authorship_tag": "ABX9TyPonseQbucldbBjiL782mdu",
      "include_colab_link": true
    },
    "kernelspec": {
      "name": "python3",
      "display_name": "Python 3"
    },
    "accelerator": "GPU"
  },
  "cells": [
    {
      "cell_type": "markdown",
      "metadata": {
        "id": "view-in-github",
        "colab_type": "text"
      },
      "source": [
        "<a href=\"https://colab.research.google.com/github/meloly4/NLP-Projects/blob/master/GPT_2_NaNoGenMo.ipynb\" target=\"_parent\"><img src=\"https://colab.research.google.com/assets/colab-badge.svg\" alt=\"Open In Colab\"/></a>"
      ]
    },
    {
      "cell_type": "code",
      "metadata": {
        "id": "kJaeVzmWvUwZ",
        "colab_type": "code",
        "colab": {
          "base_uri": "https://localhost:8080/",
          "height": 185
        },
        "outputId": "a02d888e-d569-4f1c-9ce1-c61537e2d501"
      },
      "source": [
        "%tensorflow_version 1.x\n",
        "!pip install -q gpt-2-simple\n",
        "import gpt_2_simple as gpt2\n",
        "from datetime import datetime\n",
        "from google.colab import files"
      ],
      "execution_count": 1,
      "outputs": [
        {
          "output_type": "stream",
          "text": [
            "TensorFlow 1.x selected.\n",
            "  Building wheel for gpt-2-simple (setup.py) ... \u001b[?25l\u001b[?25hdone\n",
            "WARNING:tensorflow:\n",
            "The TensorFlow contrib module will not be included in TensorFlow 2.0.\n",
            "For more information, please see:\n",
            "  * https://github.com/tensorflow/community/blob/master/rfcs/20180907-contrib-sunset.md\n",
            "  * https://github.com/tensorflow/addons\n",
            "  * https://github.com/tensorflow/io (for I/O related ops)\n",
            "If you depend on functionality not listed there, please file an issue.\n",
            "\n"
          ],
          "name": "stdout"
        }
      ]
    },
    {
      "cell_type": "code",
      "metadata": {
        "id": "sYqTU46oyjmB",
        "colab_type": "code",
        "colab": {
          "base_uri": "https://localhost:8080/",
          "height": 302
        },
        "outputId": "500fe2a1-c92d-4adf-add6-f1ecb1c7255c"
      },
      "source": [
        "!nvidia-smi"
      ],
      "execution_count": 2,
      "outputs": [
        {
          "output_type": "stream",
          "text": [
            "Tue Jun  9 20:34:09 2020       \n",
            "+-----------------------------------------------------------------------------+\n",
            "| NVIDIA-SMI 440.82       Driver Version: 418.67       CUDA Version: 10.1     |\n",
            "|-------------------------------+----------------------+----------------------+\n",
            "| GPU  Name        Persistence-M| Bus-Id        Disp.A | Volatile Uncorr. ECC |\n",
            "| Fan  Temp  Perf  Pwr:Usage/Cap|         Memory-Usage | GPU-Util  Compute M. |\n",
            "|===============================+======================+======================|\n",
            "|   0  Tesla P100-PCIE...  Off  | 00000000:00:04.0 Off |                    0 |\n",
            "| N/A   32C    P0    25W / 250W |      0MiB / 16280MiB |      0%      Default |\n",
            "+-------------------------------+----------------------+----------------------+\n",
            "                                                                               \n",
            "+-----------------------------------------------------------------------------+\n",
            "| Processes:                                                       GPU Memory |\n",
            "|  GPU       PID   Type   Process name                             Usage      |\n",
            "|=============================================================================|\n",
            "|  No running processes found                                                 |\n",
            "+-----------------------------------------------------------------------------+\n"
          ],
          "name": "stdout"
        }
      ]
    },
    {
      "cell_type": "code",
      "metadata": {
        "id": "XpRG_yPTynfG",
        "colab_type": "code",
        "colab": {
          "base_uri": "https://localhost:8080/",
          "height": 134
        },
        "outputId": "03e30867-3624-43f3-aa3e-e1ac02253995"
      },
      "source": [
        "gpt2.download_gpt2(model_name=\"1558M\")"
      ],
      "execution_count": 3,
      "outputs": [
        {
          "output_type": "stream",
          "text": [
            "Fetching checkpoint: 1.05Mit [00:00, 302Mit/s]                                                      \n",
            "Fetching encoder.json: 1.05Mit [00:00, 108Mit/s]                                                    \n",
            "Fetching hparams.json: 1.05Mit [00:00, 319Mit/s]                                                    \n",
            "Fetching model.ckpt.data-00000-of-00001: 6.23Git [02:09, 48.3Mit/s]                                 \n",
            "Fetching model.ckpt.index: 1.05Mit [00:00, 391Mit/s]                                                \n",
            "Fetching model.ckpt.meta: 2.10Mit [00:00, 201Mit/s]                                                 \n",
            "Fetching vocab.bpe: 1.05Mit [00:00, 169Mit/s]                                                       \n"
          ],
          "name": "stderr"
        }
      ]
    },
    {
      "cell_type": "code",
      "metadata": {
        "id": "151qgKWm0gq0",
        "colab_type": "code",
        "colab": {
          "base_uri": "https://localhost:8080/",
          "height": 50
        },
        "outputId": "40de141d-d64c-45de-ff32-4bbdee43466a"
      },
      "source": [
        "model_name = \"1558M\"\n",
        "sess = gpt2.start_tf_sess()\n",
        "gpt2.load_gpt2(sess, model_name=model_name)"
      ],
      "execution_count": 5,
      "outputs": [
        {
          "output_type": "stream",
          "text": [
            "Loading pretrained model models/1558M/model.ckpt\n",
            "INFO:tensorflow:Restoring parameters from models/1558M/model.ckpt\n"
          ],
          "name": "stdout"
        }
      ]
    },
    {
      "cell_type": "code",
      "metadata": {
        "id": "YjSnY1Uj1kiL",
        "colab_type": "code",
        "colab": {
          "base_uri": "https://localhost:8080/",
          "height": 1000
        },
        "outputId": "4930c1c1-7a8b-4ca8-f687-10068aa4c5a3"
      },
      "source": [
        "gpt2.generate(sess,\n",
        "              model_name=model_name,\n",
        "              length=500,\n",
        "              temperature=0.7,\n",
        "              top_p=0.9,\n",
        "              nsamples=5,\n",
        "              batch_size=5\n",
        "              )"
      ],
      "execution_count": 12,
      "outputs": [
        {
          "output_type": "stream",
          "text": [
            "The election of Donald Trump has been a source of consternation and fear for many Americans, and the election of Hillary Clinton has been one of relief and hope. In this episode of the History of the Future podcast, host Jonathan Gottschall talks with historian David McCullough about how the two candidates differ on some of the key issues facing the nation.\n",
            "\n",
            "They also discuss the rise of Trump, and the prospect of a Clinton presidency.\n",
            "\n",
            "What are you listening to?<|endoftext|>An eye-catching image of a female tiger wearing a leopard print bikini has been released by a wildlife conservation group.\n",
            "\n",
            "The image, taken in Russia's Far East, shows a tiger in a stretchy leopard print bikini, with a little pink dot on her tummy.\n",
            "\n",
            "The image was taken by a wildlife photographer in the Russian Far East, and was released by WWF-Russia on its Facebook page.\n",
            "\n",
            "It shows a tiger in a stretchy leopard print bikini, with a little pink dot on her tummy\n",
            "\n",
            "The image was taken by a wildlife photographer in the Russian Far East, and was released by WWF-Russia on its Facebook page\n",
            "\n",
            "The image was taken by a wildlife photographer in the Russian Far East, and was released by WWF-Russia on its Facebook page.\n",
            "\n",
            "The photographer, named only as Sergey, said he was 'very happy' with the image, adding that he was 'not ashamed' of the image.\n",
            "\n",
            "He said: 'I had to take the pictures in the extreme conditions of the Russian Far East.\n",
            "\n",
            "'I hope people will see the beauty of this animal.\n",
            "\n",
            "'I'm not ashamed. I'm happy that people can see it.'\n",
            "\n",
            "The image was taken by a wildlife photographer in the Russian Far East, and was released by WWF-Russia on its Facebook page\n",
            "\n",
            "The photographer said he was 'very happy' with the image, adding that he was 'not ashamed' of the image\n",
            "\n",
            "The photographer, named only as Sergey, said he was 'very happy' with the image, adding that he was 'not ashamed' of the image\n",
            "\n",
            "The image was taken by a wildlife photographer in the Russian Far East, and was released by WWF-Russia on its Facebook page\n",
            "\n",
            "The photographer said he was 'very happy' with the image, adding that he was 'not ashamed' of the image\n",
            "\n",
            "The tiger's paw is seen in the picture, which\n",
            "====================\n",
            "To understand why a presidential candidate would go to such lengths to prevent his opponent from winning the presidency, we must first understand the way the Electoral College works. The Electoral College is a direct descendant of the original House of Representatives, which was created in 1789, and the Constitution's framers knew it would be a very powerful tool for shaping the nation's political destiny.\n",
            "\n",
            "The House of Representatives was created as a direct descendant of the original House of Lords, which was created in 1660. The House of Lords was intended to act as a check on the power of the monarch, and it was created as a form of popular government that would allow the people to directly select the sovereign, the king. The House of Lords was a direct descendant of the old English feudal system, which was a system where the land belonged to the lord, and the landless peasants were the commoners. The feudal system was a system of absolute power, where the king was the supreme power, and he wielded that power through his feudal lords.\n",
            "\n",
            "The House of Lords was a system of absolute power, where the king was the supreme power, and he wielded that power through his feudal lords.\n",
            "\n",
            "The people of England wanted a system where they could directly elect their king, but the British monarch was not a representative of the people. Instead, the British monarch was the head of a hereditary aristocracy, and he wielded that power through the House of Lords, which was a powerful aristocratic institution that was directly under his control. The British monarchy was not representative, but rather it was a system of absolute power.\n",
            "\n",
            "The Founding Fathers were aware of this fact, and they knew that the Electoral College was a direct descendant of the House of Lords. So the Framers wanted to avoid the same situation that occurred with the House of Lords. They did this by creating a system that would give the people a direct choice in choosing their president. They created a system of direct democracy, which allowed the people to directly elect the president of the United States.\n",
            "\n",
            "The Founders were aware of this fact, and they knew that the Electoral College was a direct descendant of the House of Lords.\n",
            "\n",
            "The Electoral College was originally called the \"House of Representatives,\" but the Constitution changed the name to \"Electoral College\" because it was felt that the House of Representatives was too often a tool for the minority party. The Constitution also changed the name of the House of Representatives from \"House of Lords\" to\n",
            "====================\n",
            "In the world of sports, there are many rules that can be broken, and for the UFC, it seems like there is a new one every week. There are a number of rules that have been in place since the beginning of the promotion, but there are also a number of new ones that have been introduced since the beginning of the year. This week, we take a look at the new rules and how they affect the UFC.\n",
            "\n",
            "When it comes to the rules, there are a few things that are not in place yet, but are in the works.\n",
            "\n",
            "There are three new rules that will be in place in the next few weeks:\n",
            "\n",
            "1. No more hand-to-hand combat\n",
            "\n",
            "2. No more headbutts\n",
            "\n",
            "3. No more groin strikes\n",
            "\n",
            "For those of you who are not aware of the rule, it states that fighters cannot deliver strikes to the head, neck, face, groin or groin area of an opponent. There are several other rules that have been introduced since the beginning of the year, but the one that is most pertinent to the UFC is the one that addresses headbutts.\n",
            "\n",
            "The UFC has a history of having some of the most entertaining fights of any MMA promotion, but there has always been a certain amount of violence in the sport. This rule will hopefully make the fights that fans want to see more exciting, and will hopefully have a positive effect on the UFC's future.\n",
            "\n",
            "As for the new rules, there are a few things that have been added to the list. First, there is now a specific section in the rules that addresses groin strikes. Now, if a fighter is caught with a groin strike, it will result in a point deduction. The most notable example of this was when Frank Mir landed a groin strike to Chuck Liddell at UFC 82.\n",
            "\n",
            "With the addition of the rule, it is likely that the UFC will begin to see more and more groin strikes in the Octagon. For fans of the sport, the addition of this rule will be a huge addition, and will hopefully make the fights that fans want to see more entertaining.<|endoftext|>We're not sure if it's because of the latest trailer for the upcoming James Bond film, Skyfall, or because of the recent news that the Skyfall remake is going to be shot in Spain, but there are rumors that there will be a \"spy\" in Skyfall. And the rumors are that he\n",
            "====================\n",
            "*This post is part of our \"Happiness in a T-Shirt\" series.\n",
            "\n",
            "I'm pretty sure I'm not the only person who gets excited when I tell them I'm a runner. The excitement doesn't end there. I get excited about getting out of the house, running, getting fit, meeting new people, and having fun.\n",
            "\n",
            "As I mentioned in a previous post, I'm also a runner who's been running for over 20 years. I've run marathons, half marathons, 10Ks, and 25Ks. I've run with my husband, run with my friends, run with people I don't know. I've run with people who are in pain, run with people who are excited, run with people who are exhausted, run with people who are laughing, run with people who are sad, run with people who are scared, run with people who are hungry, run with people who are thirsty, run with people who are in pain, run with people who are in a hurry, run with people who are in a coma, run with people who are dead, run with people who are alive, run with people who are in the hospital, run with people who are in the morgue, run with people who are in the morgue at night, run with people who are in the morgue at the hospital, run with people who are in the hospital at night, run with people who are in the hospital at the morgue, run with people who are in the morgue at the morgue, run with people who are in the hospital at the morgue, run with people who are in the morgue at night, run with people who are in the hospital at the morgue, run with people who are in the hospital at the morgue, run with people who are in the hospital at the morgue at night, run with people who are in the hospital at the morgue at night, run with people who are in the hospital at the morgue at night, run with people who are in the hospital at the morgue at night, run with people who are in the hospital at the morgue at night, run with people who are in the hospital at the morgue at night, run with people who are in the hospital at the morgue at night, run with people who are in the hospital at the morgue at night, run with people who are in the hospital at the\n",
            "====================\n",
            "Eggs are a healthy and delicious food. They are packed with nutrients, protein, and energy.\n",
            "\n",
            "However, there are many myths and misinformation about eggs.\n",
            "\n",
            "You can't over-cook them.\n",
            "\n",
            "You can't eat them with other foods.\n",
            "\n",
            "Eggs are high in cholesterol.\n",
            "\n",
            "Eggs contain mercury.\n",
            "\n",
            "Eggs can make you fat.\n",
            "\n",
            "Eggs contain hormones.\n",
            "\n",
            "Eggs contain antibiotics.\n",
            "\n",
            "Eggs are high in fat.\n",
            "\n",
            "Eggs are high in sodium.\n",
            "\n",
            "Eggs are high in saturated fat.\n",
            "\n",
            "Eggs can cause cancer.\n",
            "\n",
            "Eggs are bad for your teeth.\n",
            "\n",
            "Eggs are bad for your heart.\n",
            "\n",
            "Eggs are bad for your eyes.\n",
            "\n",
            "Eggs are bad for your skin.\n",
            "\n",
            "Eggs are bad for your lungs.\n",
            "\n",
            "Eggs are bad for your bones.\n",
            "\n",
            "Eggs are bad for your eyes.\n",
            "\n",
            "Eggs are bad for your heart.\n",
            "\n",
            "Eggs are bad for your eyes.\n",
            "\n",
            "Eggs are bad for your lungs.\n",
            "\n",
            "Eggs are bad for your bones.\n",
            "\n",
            "Eggs are bad for your lungs.\n",
            "\n",
            "Eggs are bad for your bones.\n",
            "\n",
            "Eggs are bad for your lungs.\n",
            "\n",
            "Eggs are bad for your bones.\n",
            "\n",
            "Eggs are bad for your lungs.\n",
            "\n",
            "Eggs are bad for your bones.\n",
            "\n",
            "Eggs are bad for your lungs.\n",
            "\n",
            "Eggs are bad for your bones.\n",
            "\n",
            "Eggs are bad for your lungs.\n",
            "\n",
            "Eggs are bad for your bones.\n",
            "\n",
            "Eggs are bad for your lungs.\n",
            "\n",
            "Eggs are bad for your bones.\n",
            "\n",
            "Eggs are bad for your lungs.\n",
            "\n",
            "Eggs are bad for your bones.\n",
            "\n",
            "Eggs are bad for your lungs.\n",
            "\n",
            "Eggs are bad for your bones.\n",
            "\n",
            "Eggs are bad for your lungs.\n",
            "\n",
            "Eggs are bad for your bones.\n",
            "\n",
            "Eggs are bad for your lungs.\n",
            "\n",
            "Eggs are bad for your bones.\n",
            "\n",
            "Eggs are bad for your lungs.\n",
            "\n",
            "Eggs are bad for your\n",
            "====================\n"
          ],
          "name": "stdout"
        }
      ]
    }
  ]
}