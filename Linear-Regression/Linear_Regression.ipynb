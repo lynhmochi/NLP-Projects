{
  "nbformat": 4,
  "nbformat_minor": 0,
  "metadata": {
    "colab": {
      "name": "Linear-Regression.ipynb",
      "provenance": [],
      "authorship_tag": "ABX9TyMw4gwNQdnuwF9A99vRAKEK",
      "include_colab_link": true
    },
    "kernelspec": {
      "name": "python3",
      "display_name": "Python 3"
    }
  },
  "cells": [
    {
      "cell_type": "markdown",
      "metadata": {
        "id": "view-in-github",
        "colab_type": "text"
      },
      "source": [
        "<a href=\"https://colab.research.google.com/github/meloly4/NLP-Projects/blob/master/Linear_Regression.ipynb\" target=\"_parent\"><img src=\"https://colab.research.google.com/assets/colab-badge.svg\" alt=\"Open In Colab\"/></a>"
      ]
    },
    {
      "cell_type": "code",
      "metadata": {
        "id": "gXsj0_nY2hMD",
        "colab_type": "code",
        "colab": {
          "base_uri": "https://localhost:8080/",
          "height": 195
        },
        "outputId": "fa07e993-689e-4496-d93e-6f2c8464ba3a"
      },
      "source": [
        "import numpy as np\n",
        "import pandas as pd\n",
        "df = pd.read_csv('linregdata.txt', header = None)\n",
        "df.head()"
      ],
      "execution_count": 13,
      "outputs": [
        {
          "output_type": "execute_result",
          "data": {
            "text/html": [
              "<div>\n",
              "<style scoped>\n",
              "    .dataframe tbody tr th:only-of-type {\n",
              "        vertical-align: middle;\n",
              "    }\n",
              "\n",
              "    .dataframe tbody tr th {\n",
              "        vertical-align: top;\n",
              "    }\n",
              "\n",
              "    .dataframe thead th {\n",
              "        text-align: right;\n",
              "    }\n",
              "</style>\n",
              "<table border=\"1\" class=\"dataframe\">\n",
              "  <thead>\n",
              "    <tr style=\"text-align: right;\">\n",
              "      <th></th>\n",
              "      <th>0</th>\n",
              "      <th>1</th>\n",
              "    </tr>\n",
              "  </thead>\n",
              "  <tbody>\n",
              "    <tr>\n",
              "      <th>0</th>\n",
              "      <td>6.1101</td>\n",
              "      <td>17.5920</td>\n",
              "    </tr>\n",
              "    <tr>\n",
              "      <th>1</th>\n",
              "      <td>5.5277</td>\n",
              "      <td>9.1302</td>\n",
              "    </tr>\n",
              "    <tr>\n",
              "      <th>2</th>\n",
              "      <td>8.5186</td>\n",
              "      <td>13.6620</td>\n",
              "    </tr>\n",
              "    <tr>\n",
              "      <th>3</th>\n",
              "      <td>7.0032</td>\n",
              "      <td>11.8540</td>\n",
              "    </tr>\n",
              "    <tr>\n",
              "      <th>4</th>\n",
              "      <td>5.8598</td>\n",
              "      <td>6.8233</td>\n",
              "    </tr>\n",
              "  </tbody>\n",
              "</table>\n",
              "</div>"
            ],
            "text/plain": [
              "        0        1\n",
              "0  6.1101  17.5920\n",
              "1  5.5277   9.1302\n",
              "2  8.5186  13.6620\n",
              "3  7.0032  11.8540\n",
              "4  5.8598   6.8233"
            ]
          },
          "metadata": {
            "tags": []
          },
          "execution_count": 13
        }
      ]
    },
    {
      "cell_type": "code",
      "metadata": {
        "id": "1uSczZM22i0J",
        "colab_type": "code",
        "colab": {}
      },
      "source": [
        "theta = [0,0]"
      ],
      "execution_count": 14,
      "outputs": []
    },
    {
      "cell_type": "code",
      "metadata": {
        "id": "1q4gSV6x3tDp",
        "colab_type": "code",
        "colab": {}
      },
      "source": [
        "def hypothesis(theta, X):\n",
        "    return theta[0] + theta[1]*X\n",
        "def cost_calc(theta, X, y):\n",
        "    return (1/2*m) * np.sum((hypothesis(theta, X) - y)**2)"
      ],
      "execution_count": 15,
      "outputs": []
    },
    {
      "cell_type": "code",
      "metadata": {
        "id": "F1fb_qwZ3uo7",
        "colab_type": "code",
        "colab": {}
      },
      "source": [
        "m = len(df)\n",
        "def gradient_descent(theta, X, y, epoch, alpha):\n",
        "    cost = []\n",
        "    i = 0\n",
        "    while i < epoch:\n",
        "        hx = hypothesis(theta, X)\n",
        "        theta[0] -= alpha*(sum(hx-y)/m)\n",
        "        theta[1] -= (alpha * np.sum((hx - y) * X))/m\n",
        "        cost.append(cost_calc(theta, X, y))\n",
        "        i += 1\n",
        "    return theta, cost"
      ],
      "execution_count": 16,
      "outputs": []
    },
    {
      "cell_type": "code",
      "metadata": {
        "id": "5M1xIZ4F4X51",
        "colab_type": "code",
        "colab": {}
      },
      "source": [
        "def predict(theta, X, y, epoch, alpha):\n",
        "    theta, cost = gradient_descent(theta, X, y, epoch, alpha)\n",
        "    return hypothesis(theta, X), cost, theta"
      ],
      "execution_count": 17,
      "outputs": []
    },
    {
      "cell_type": "code",
      "metadata": {
        "id": "HATpfe9a4eQG",
        "colab_type": "code",
        "colab": {}
      },
      "source": [
        "y_predict, cost, theta = predict(theta, df[0], df[1], 2000, 0.01)"
      ],
      "execution_count": 18,
      "outputs": []
    },
    {
      "cell_type": "code",
      "metadata": {
        "id": "J5VII_vD4h9y",
        "colab_type": "code",
        "colab": {
          "base_uri": "https://localhost:8080/",
          "height": 280
        },
        "outputId": "a2e9a8af-90ab-4245-af9d-315c976d19a1"
      },
      "source": [
        "%matplotlib inline\n",
        "import matplotlib.pyplot as plt\n",
        "plt.figure()\n",
        "plt.scatter(df[0], df[1], label = 'Original y')\n",
        "plt.scatter(df[0], y_predict, label = 'Predicted y')\n",
        "plt.legend(loc = \"upper left\")\n",
        "plt.xlabel(\"input feature\")\n",
        "plt.ylabel(\"Original and Predicted Output\")\n",
        "plt.show()"
      ],
      "execution_count": 21,
      "outputs": [
        {
          "output_type": "display_data",
          "data": {
            "image/png": "[encoded data removed]",
            "text/plain": [
              "<Figure size 432x288 with 1 Axes>"
            ]
          },
          "metadata": {
            "tags": [],
            "needs_background": "light"
          }
        }
      ]
    },
    {
      "cell_type": "code",
      "metadata": {
        "id": "LZaYRjaU4jzO",
        "colab_type": "code",
        "colab": {
          "base_uri": "https://localhost:8080/",
          "height": 265
        },
        "outputId": "e38f280d-c0a4-418e-dab3-d2beb04dcfb9"
      },
      "source": [
        "plt.figure()\n",
        "plt.scatter(range(0, len(cost)), cost)\n",
        "plt.show()"
      ],
      "execution_count": 20,
      "outputs": [
        {
          "output_type": "display_data",
          "data": {
            "image/png": "[encoded data removed]",
            "text/plain": [
              "<Figure size 432x288 with 1 Axes>"
            ]
          },
          "metadata": {
            "tags": [],
            "needs_background": "light"
          }
        }
      ]
    }
  ]
}
